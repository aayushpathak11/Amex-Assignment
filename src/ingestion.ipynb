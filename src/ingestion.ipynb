{
 "cells": [
  {
   "cell_type": "markdown",
   "metadata": {},
   "source": [
    "# INGESTION - PARSING PDF"
   ]
  },
  {
   "cell_type": "code",
   "execution_count": 2,
   "metadata": {},
   "outputs": [],
   "source": [
    "from langchain_community.document_loaders import PyPDFLoader"
   ]
  },
  {
   "cell_type": "markdown",
   "metadata": {},
   "source": [
    "## PDF FILE 1"
   ]
  },
  {
   "cell_type": "code",
   "execution_count": 5,
   "metadata": {},
   "outputs": [
    {
     "name": "stdout",
     "output_type": "stream",
     "text": [
      "17\n",
      "page_content='FINANCIAL POLICIES \n",
      "Lake County G overnment  \n",
      " \n",
      " \n",
      "1 \n",
      " \n",
      "I. FINANCIAL PLANNING POLICIES ................................................................................. 1 \n",
      "II. BUDGET POLICIES ...................................................................................................... 3 \n",
      "III. ACCOUNTING, AUDITING & FINANCIAL REPORTING POLICIES ............................... 8 \n",
      "IV. REVENUE POLICIES ................................................................................................. 11 \n",
      "V. OPERATING POLICIES .............................................................................................. 12 \n",
      "VI. CAPITAL PLANNING & BUDGET POLICIES .............................................................. 15 \n",
      " \n",
      "I. FINANCIAL PLANNING POLICIES \n",
      "Introduction \n",
      "A long-range plan (LRP) that estimates revenue and expenditure activity in the County, as impacted by regional and \n",
      "national economies, is necessary to support the Commissioners and Community in the decisions they make regarding \n",
      "County services. This planning must recognize the effects of economic cycles on the demand for services and the \n",
      "County’s Revenues. Financial planning should be designed to ensure the delivery of needed services as defined by policy \n",
      "and the Comprehensive Plan.  \n",
      "Policies \n",
      "The financial planning and subsequent budgeting for all funds will be based on the following policies: \n",
      "1. Three-Year Plans – The County will prepare annually a three (3) year financial LRP for each fund. Each plan will \n",
      "include revenues, expenditures and other sources and uses with sufficient detail to identify trends and items \n",
      "with major impact.  \n",
      " \n",
      "2. Conservative Revenue Estimates – Revenue estimates should be prepared on a conservative basis to minimize \n",
      "the possibility that economic fluctuations could imperil ongoing service programs during the budget year.  \n",
      " \n",
      "3. Include Contingencies – Expenditure estimates should anticipate contingencies that are foreseeable.  \n",
      " \n",
      "4. Include Asset Management Plan on LRP – The five-year Asset Management Plan (AMP) will include \n",
      "equipment, major maintenance, and associated expenses of less than $100,000. Major renovation or \n",
      "maintenance projects will be identified in the LRP.' metadata={'producer': 'Adobe PDF Library 23.1.206', 'creator': 'Acrobat PDFMaker 23 for Word', 'creationdate': '2023-06-12T16:09:08-06:00', 'author': 'Hanna Waugh', 'comments': '', 'company': '', 'keywords': '', 'moddate': '2023-06-12T16:09:10-06:00', 'sourcemodified': '', 'subject': '', 'title': '', 'source': 'D:\\\\Amex-Assignment\\\\documents\\\\Financial Policies (PDF).pdf', 'total_pages': 17, 'page': 0, 'page_label': '1'}\n"
     ]
    }
   ],
   "source": [
    "file_path1 = r\"D:\\Amex-Assignment\\documents\\Financial Policies (PDF).pdf\"\n",
    "\n",
    "loader = PyPDFLoader(file_path1)\n",
    "\n",
    "docs = loader.load() #loader.load() returns a list of document object parsed from pdf\n",
    "print(len(docs)) #prints 17 , means it is loading page wise , 17 page - 17 document objects\n",
    "\n",
    "#Analysing the content for cleaning\n",
    "print(docs[0])\n",
    "# Fnding 1 - On analysing more document objects , we can observe that page_content has a fixed header and footer repeating in every page's content, this can be cleaned"
   ]
  },
  {
   "cell_type": "markdown",
   "metadata": {},
   "source": [
    "## PDF FILE 2"
   ]
  },
  {
   "cell_type": "code",
   "execution_count": 6,
   "metadata": {},
   "outputs": [
    {
     "name": "stdout",
     "output_type": "stream",
     "text": [
      "20\n",
      "page_content='Financial Policies \n",
      " \n",
      "2 | Page \n",
      " \n",
      " \n",
      "Table of Contents \n",
      "SECTION I:  Basic Policy Statement ............................................................................................................................................................................ 3 \n",
      "SECTION II: Line of Authority ..................................................................................................................................................................................... 4 \n",
      "Board of Directors ............................................................................................................................................................................................... 4 \n",
      "Executive Committee .......................................................................................................................................................................................... 4 \n",
      "Treasurer and The Finance Committee ............................................................................................................................................................... 4 \n",
      "President and Board Secretary ........................................................................................................................................................................... 4 \n",
      "CFO ...................................................................................................................................................................................................................... 4 \n",
      "Vice Presidents, Divisions and Program Directors .............................................................................................................................................. 4 \n",
      "SECTION III: Indemnity Policy ................................................................................................................................................................................... 5 \n",
      "SECTION IV: Investment Policy ................................................................................................................................................................................. 5 \n",
      "General Investment Guidelines .......................................................................................................................................................................... 5 \n",
      "Reserve Policy ..................................................................................................................................................................................................... 5 \n",
      "SECTION V: Policy for Services Provided by Members ............................................................................................................................................. 5 \n",
      "SECTION VI: Involvement with Community Events .................................................................................................................................................. 6 \n",
      "Priorities .............................................................................................................................................................................................................. 6 \n",
      "Financial Support ................................................................................................................................................................................................ 6 \n",
      "Staff Support ....................................................................................................................................................................................................... 6 \n",
      "Chamber Sponsorships........................................................................................................................................................................................ 6 \n",
      "SECTION VII: Criteria for Endorsements and Affinity Programs............................................................................................................................... 7 \n",
      "Chamber's Vision and Mission ............................................................................................................................................................................ 7 \n",
      "Eligibility ............................................................................................................................................................................................................. 7 \n",
      "Revenue Stream .................................................................................................................................................................................................. 7 \n",
      "Local Competition ............................................................................................................................................................................................... 7 \n",
      "Marketing and Customer Service ....................................................................................................................................................................... 7 \n",
      "Product Timeline ................................................................................................................................................................................................. 8 \n",
      "FINANCIAL CONTROLS AND OPERATING PROCEDURES ........................................................................................................................................... 9 \n",
      "SECTION VIII: Financial Controls ............................................................................................................................................................................... 9 \n",
      "Operating Procedures ......................................................................................................................................................................................... 9 \n",
      "Separation of Duties ........................................................................................................................................................................................... 9 \n",
      "Financial Reporting ............................................................................................................................................................................................. 9 \n",
      "Safeguarding Assets ......................................................................................................................................................................................... 10 \n",
      "Fixed Assets ....................................................................................................................................................................................................... 10 \n",
      "Payroll Controls ................................................................................................................................................................................................. 11 \n",
      "Accounting System Controls ............................................................................................................................................................................. 11 \n",
      "Disbursements .................................................................................................................................................................................................. 11 \n",
      "Receipts ............................................................................................................................................................................................................. 12 \n",
      "Credit Card Receipts .......................................................................................................................................................................................... 12 \n",
      "SECTION IX: Accounting Procedures ....................................................................................................................................................................... 13 \n",
      "Billings and Receivables .................................................................................................................................................................................... 13 \n",
      "New Members ................................................................................................................................................................................................... 13 \n",
      "Renewals ........................................................................................................................................................................................................... 13 \n",
      "Past Due Accounts ............................................................................................................................................................................................ 13 \n",
      "Cancellations ..................................................................................................................................................................................................... 14 \n",
      "Database Changes ............................................................................................................................................................................................ 14 \n",
      "Programs/Events .............................................................................................................................................................................................. 14 \n",
      "Sponsorship ....................................................................................................................................................................................................... 14 \n",
      "Cash Receipts .................................................................................................................................................................................................... 14 \n",
      "Credit Card Receipts .......................................................................................................................................................................................... 15 \n",
      "Payroll ............................................................................................................................................................................................................... 15 \n",
      "Bank Reconciliations .......................................................................................................................................................................................... 17 \n",
      "Accounts Payable .............................................................................................................................................................................................. 17 \n",
      "Disbursements .................................................................................................................................................................................................. 17 \n",
      "Vendor Invoices .......................................................................................................................................................................................... 17 \n",
      "Staff Expense Reimbursements .................................................................................................................................................................. 17 \n",
      "Operating Expenses ..................................................................................................................................................................................... 18 \n",
      "Startup Funds .............................................................................................................................................................................................. 18 \n",
      "Credit Cards ................................................................................................................................................................................................. 18 \n",
      "Petty Cash Disbursements .......................................................................................................................................................................... 19 \n",
      "Authorized Purchasers ...................................................................................................................................................................................... 19' metadata={'producer': 'Adobe Acrobat Pro DC 19.12.20035', 'creator': 'Adobe Acrobat Pro DC 19.12.20035', 'creationdate': '2019-07-01T08:36:17-05:00', 'author': 'Sheri Nugent', 'moddate': '2020-05-04T08:30:04-04:00', 'title': 'Financial Policies & Procedures Handbook', 'source': 'D:\\\\Amex-Assignment\\\\documents\\\\a_2.1_financial_policy_manual_lubbock_chamber_of_commerce_11.19.pdf', 'total_pages': 20, 'page': 1, 'page_label': '2'}\n"
     ]
    }
   ],
   "source": [
    "file_path2 = r\"D:\\Amex-Assignment\\documents\\a_2.1_financial_policy_manual_lubbock_chamber_of_commerce_11.19.pdf\"\n",
    "loader2 = PyPDFLoader(file_path2)\n",
    "\n",
    "docs2 = loader2.load()\n",
    "\n",
    "print(len(docs2)) #prints 20 , expected as there are 20 pages\n",
    "\n",
    "print(docs2[1])\n",
    "# Finding 2 - This pdf also has fixed header and footer pattern in each page's content and hence can be cleaned for better clear data"
   ]
  },
  {
   "cell_type": "markdown",
   "metadata": {},
   "source": [
    "## PDF FILE 3"
   ]
  },
  {
   "cell_type": "code",
   "execution_count": 7,
   "metadata": {},
   "outputs": [
    {
     "name": "stdout",
     "output_type": "stream",
     "text": [
      "23\n",
      "page_content='Copyright © 2019 \n",
      "8 \n",
      "Contracts, mortgages, notes, and leases (expired)   7 Years \n",
      "Correspondence: \n",
      "  General (Customers, Vendors, etc.)     2 Years \n",
      "  Legal and important matters only     Permanently \n",
      "Deeds, mortgages, and bills of sale     Permanently \n",
      "Determination letter for income tax exemption   Permanently \n",
      "Depreciation schedules      Permanently \n",
      "Duplicate deposit slips       2 Years \n",
      "Employment applications      3 Years \n",
      "Expense analyses/expense distribution schedule   7 Years \n",
      "Financial statements: \n",
      "  Year end        Permanently \n",
      "  Other         Optional  \n",
      "General ledgers/year end trial balance     Permanently \n",
      "Insurance policies (expired)      3 Years \n",
      "Insurance records (policies, claims, etc.)    Permanently \n",
      "Internal audit reports       3 Years \n",
      "Internal reports       3 Years \n",
      "Invoices (to customers, from vendors)     7 Years \n",
      "Minute books of directors, bylaws and charters   Permanently \n",
      "Notes receivable ledgers and schedules    7 Years \n",
      "Payroll records and summaries      7 Years \n",
      "Personnel records (terminated)      7 Years \n",
      "Property records (incl. depreciation schedules)    Permanently \n",
      "Purchase orders: \n",
      "  Purchasing department copy      7 Years \n",
      "  Other copies        1 Year \n",
      "Retirement and pension records     Permanently \n",
      "Tax returns and worksheets, examination reports \n",
      "  and other documents relating to IRS determination   Permanently \n",
      "Time sheets/cards       7 Years \n",
      "Trademark registrations and copyrights    Permanently \n",
      "Training manuals       Permanently \n",
      "Withholding tax statements      7 Years \n",
      "Cash Receipts and Revenue Processing \n",
      "Processing of Checks and Cash Received in the Mail \n",
      "For funds that are received directly, cash receipts are centralized to ensure that cash received \n",
      "is appropriately directed, recorded and deposited on a timely basis.  Mail is opened and a \n",
      "listing of cash/checks received shall be prepared by the development director for all \n",
      "contributions. The development director will enter this information into the fundraising \n",
      "software.  A deposit slip is prepared by the administrative assistant from the cash/checks' metadata={'producer': 'Adobe PDF Library 11.0', 'creator': 'Acrobat PDFMaker 11 for Word', 'creationdate': '2019-08-30T09:43:36-04:00', 'author': 'Jim Simpson', 'company': '', 'keywords': '', 'lcid': '1033', 'moddate': '2019-08-30T09:43:43-04:00', 'sourcemodified': 'D:20190830133955', 'subject': '', 'title': 'Sample Nonprofit Financial Policies and Procedures Manual', 'usedefaultlanguage': '1', 'version': '99022200', 'source': 'D:\\\\Amex-Assignment\\\\documents\\\\Sample-Nonprofit-Financial-Policies-and-Procedures-Manual-Resource.pdf', 'total_pages': 23, 'page': 7, 'page_label': '8'}\n"
     ]
    }
   ],
   "source": [
    "file_path3 = r\"D:\\Amex-Assignment\\documents\\Sample-Nonprofit-Financial-Policies-and-Procedures-Manual-Resource.pdf\"\n",
    "loader3 = PyPDFLoader(file_path3)\n",
    "\n",
    "docs3 = loader3.load()\n",
    "\n",
    "print(len(docs3)) #prints 23 , expected as there are 23 pages\n",
    "\n",
    "print(docs3[7])\n",
    "# Finding 3 - This pdf also has fixed header and footer pattern in each page's content and hence can be cleaned for better clear data"
   ]
  },
  {
   "cell_type": "markdown",
   "metadata": {},
   "source": [
    "## PDF FILE 4"
   ]
  },
  {
   "cell_type": "code",
   "execution_count": 8,
   "metadata": {},
   "outputs": [
    {
     "name": "stdout",
     "output_type": "stream",
     "text": [
      "26\n",
      "page_content='Page | 8  \n",
      "May 3, 2016 DRAFT – Pending HUD Legal Counsel Review \n",
      "b. Budget Preparation Timing:   \n",
      "The budget process should begin early in the fiscal year to allow the Executive \n",
      "Director, the Finance Director, and the department managers to engage in the \n",
      "process and present the budget to the Council/Board for approval.   \n",
      "In accordance with the NAHASDA regulations, the Indian Housing Plan (IHP) is \n",
      "due 75 days prior to the TRIBE/TDHE’s fiscal year end, therefore, the \n",
      "TRIBE/TDHE should have the IHP prepared and approved ahead of time in \n",
      "order for the IHP to be incorporated in the overall housing budget for the next \n",
      "fiscal year.   \n",
      "Once the budget has been approved, the Finance Director shall input the \n",
      "approved budget in the accounting system for the new fiscal year. \n",
      "c. Budget Management and Report:  \n",
      "Program managers shall be responsible for managing transactions that are \n",
      "charged against their department budgets, and are accountable for ensuring \n",
      "their department revenues and expenses posted against their department \n",
      "budget are accurate, and are responsible for providing justifications on budget \n",
      "variables.       \n",
      "The budget for specific grant awards provides a spending plan against which \n",
      "fiscal and program performance can be measured. Therefore, the \n",
      "TRIBE/TDHE’s accounting system must be set up in a manner that allows the \n",
      "TRIBE/TDHE to produce financial reports that compare expenditures with \n",
      "budget amounts in compliance with the Federal award agreement. \n",
      "11. PURCHASE OF GOODS AND SERVICES \n",
      "The TRIBE/TDHE’s purchases shall be governed by its Council/Board approved \n",
      "procurement policy, which establishes guidelines to ensure reasonable buying \n",
      "practices and competition, quality and integrity.   \n",
      "12. ALLOWABLE COSTS \n",
      "As the recipient of federal awards, the TRIBE/TDHE bases its allowable cost \n",
      "principles on Subpart E of the Uniform Grant Guidance and shall expend IHBG \n",
      "funds only for activities that are expressly approved in the Indian Housing Plan \n",
      "(IHP). No moneys shall be expended for activities that are unallowable or that are \n",
      "included as a cost of any other federally-funded program in either the current or a \n",
      "prior year.   \n",
      "The total cost of a federal award is the sum of the allowable direct and allocable \n",
      "indirect costs, less any applicable credits.' metadata={'producer': 'Adobe PDF Library 11.0', 'creator': 'Acrobat PDFMaker 11 for Word', 'creationdate': '2016-10-14T13:56:51-07:00', 'author': 'Maria Tagliavento', 'company': 'Cook Inlet Housing Authority', 'moddate': '2017-02-25T17:53:12-08:00', 'sourcemodified': 'D:20161014203416', 'source': 'D:\\\\Amex-Assignment\\\\documents\\\\sample_fin_mgmt_policy.pdf', 'total_pages': 26, 'page': 7, 'page_label': '8'}\n"
     ]
    }
   ],
   "source": [
    "file_path4 = r\"D:\\Amex-Assignment\\documents\\sample_fin_mgmt_policy.pdf\"\n",
    "loader4 = PyPDFLoader(file_path4)\n",
    "\n",
    "docs4 = loader3.load()\n",
    "\n",
    "print(len(docs4)) #prints 26 , expected as there are 26 pages\n",
    "\n",
    "print(docs4[7])\n",
    "# Finding 3 - This pdf also has fixed header and footer pattern in each page's content and hence can be cleaned for better clear data"
   ]
  },
  {
   "cell_type": "code",
   "execution_count": null,
   "metadata": {},
   "outputs": [],
   "source": []
  }
 ],
 "metadata": {
  "kernelspec": {
   "display_name": "venv",
   "language": "python",
   "name": "python3"
  },
  "language_info": {
   "codemirror_mode": {
    "name": "ipython",
    "version": 3
   },
   "file_extension": ".py",
   "mimetype": "text/x-python",
   "name": "python",
   "nbconvert_exporter": "python",
   "pygments_lexer": "ipython3",
   "version": "3.10.1"
  }
 },
 "nbformat": 4,
 "nbformat_minor": 2
}
